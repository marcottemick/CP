{
 "cells": [
  {
   "cell_type": "code",
   "execution_count": 17,
   "metadata": {},
   "outputs": [],
   "source": [
    "import numpy as np\n",
    "from PIL import Image\n",
    "from keras.preprocessing.image import ImageDataGenerator\n",
    "import os"
   ]
  },
  {
   "cell_type": "code",
   "execution_count": 20,
   "metadata": {},
   "outputs": [],
   "source": [
    "\n",
    "def appliquer_transformation(image_path, nouvelle_image_path):\n",
    "    # Charger l'image\n",
    "    image = Image.open(image_path)\n",
    "\n",
    "    # Convertir l'image en tableau numpy\n",
    "    image_array = np.array(image)\n",
    "    image_array = np.expand_dims(image_array, axis=0)  # Ajouter une dimension pour s'adapter à la fonction d'ImageDataGenerator\n",
    "\n",
    "    # Initialiser l'ImageDataGenerator avec les paramètres spécifiés\n",
    "    datagen_2O = ImageDataGenerator(\n",
    "        rotation_range=5,\n",
    "        width_shift_range=0.02,\n",
    "        height_shift_range=0.02,\n",
    "        zoom_range=0.2,\n",
    "        brightness_range=(0.8, 1.2),\n",
    "        fill_mode='nearest'\n",
    "    )\n",
    "\n",
    "    # Générer une transformation aléatoire\n",
    "    transformation = datagen_2O.get_random_transform(image_array.shape[1:])\n",
    "\n",
    "    # Appliquer la transformation à l'image\n",
    "    image_transformee = datagen_2O.apply_transform(image_array[0], transformation)\n",
    "\n",
    "    # Convertir l'image transformée en objet Image\n",
    "    image_transformee_pil = Image.fromarray(image_transformee.astype(np.uint8))\n",
    "\n",
    "    # Enregistrer l'image transformée\n",
    "    image_transformee_pil.save(nouvelle_image_path)"
   ]
  },
  {
   "cell_type": "code",
   "execution_count": 27,
   "metadata": {},
   "outputs": [],
   "source": [
    "for side in ['left', 'right']:\n",
    "    for n in range(1, 47):\n",
    "        if n == 4:\n",
    "            pass\n",
    "    \n",
    "        else:\n",
    "            fichiers = os.listdir(f\"../MMU-Iris-Database/{n}/{side}\")\n",
    "            for fichier in fichiers:\n",
    "                if fichier.lower().endswith(('.bmp', '.jpg', '.png')):\n",
    "                    # Chemin de l'image d'origine\n",
    "                    image_originale_path = f\"../MMU-Iris-Database/{n}/{side}/{fichier}\"\n",
    "\n",
    "                    # Chemin pour enregistrer la nouvelle image\n",
    "                    nouvelle_image_path = f\"img_test/{n}_{side}_{fichier[:-4]}_copy.bmp\"\n",
    "\n",
    "                    # Appliquer la transformation et enregistrer la copie\n",
    "                    appliquer_transformation(image_originale_path, nouvelle_image_path)"
   ]
  }
 ],
 "metadata": {
  "kernelspec": {
   "display_name": ".venv",
   "language": "python",
   "name": "python3"
  },
  "language_info": {
   "codemirror_mode": {
    "name": "ipython",
    "version": 3
   },
   "file_extension": ".py",
   "mimetype": "text/x-python",
   "name": "python",
   "nbconvert_exporter": "python",
   "pygments_lexer": "ipython3",
   "version": "3.10.9"
  }
 },
 "nbformat": 4,
 "nbformat_minor": 2
}
